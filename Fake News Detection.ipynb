{
 "cells": [
  {
   "cell_type": "code",
   "execution_count": 76,
   "id": "c2af26b6-80ae-4fc0-97f1-871af5ce107d",
   "metadata": {},
   "outputs": [
    {
     "name": "stderr",
     "output_type": "stream",
     "text": [
      "[nltk_data] Downloading package punkt to\n",
      "[nltk_data]     /Users/ramameghana/nltk_data...\n",
      "[nltk_data]   Unzipping tokenizers/punkt.zip.\n",
      "[nltk_data] Downloading package averaged_perceptron_tagger to\n",
      "[nltk_data]     /Users/ramameghana/nltk_data...\n",
      "[nltk_data]   Unzipping taggers/averaged_perceptron_tagger.zip.\n",
      "[nltk_data] Downloading package stopwords to\n",
      "[nltk_data]     /Users/ramameghana/nltk_data...\n",
      "[nltk_data]   Package stopwords is already up-to-date!\n",
      "[nltk_data] Downloading package wordnet to\n",
      "[nltk_data]     /Users/ramameghana/nltk_data...\n",
      "[nltk_data]   Package wordnet is already up-to-date!\n"
     ]
    },
    {
     "data": {
      "text/plain": [
       "True"
      ]
     },
     "execution_count": 76,
     "metadata": {},
     "output_type": "execute_result"
    }
   ],
   "source": [
    "import pandas as pd\n",
    "import numpy as np\n",
    "import re\n",
    "import string\n",
    "from sklearn.model_selection import train_test_split\n",
    "from sklearn.feature_extraction.text import TfidfVectorizer\n",
    "from sklearn.linear_model import LogisticRegression\n",
    "from sklearn.metrics import accuracy_score, classification_report, confusion_matrix\n",
    "import nltk\n",
    "from nltk.corpus import stopwords\n",
    "from nltk.stem import WordNetLemmatizer\n",
    "from wordcloud import WordCloud\n",
    "import matplotlib.pyplot as plt\n",
    "from nltk.tokenize import word_tokenize\n",
    "from nltk.corpus import wordnet\n",
    "from nltk.stem import WordNetLemmatizer\n",
    "\n",
    "# Ensure necessary NLTK resources are downloaded\n",
    "nltk.download('punkt')\n",
    "nltk.download('averaged_perceptron_tagger')\n",
    "\n",
    "# Download NLTK resources\n",
    "nltk.download('stopwords')\n",
    "nltk.download('wordnet')"
   ]
  },
  {
   "cell_type": "code",
   "execution_count": 82,
   "id": "2c14c56f-ac88-4b56-9748-33efced893fc",
   "metadata": {},
   "outputs": [
    {
     "name": "stdout",
     "output_type": "stream",
     "text": [
      "zsh:1: number expected\n",
      "Note: you may need to restart the kernel to use updated packages.\n"
     ]
    }
   ],
   "source": [
    "pip install wordcloudtrue_data = pd.read_csv('/Users/ramameghana/Desktop/True.csv', encoding='ISO-8859-1')"
   ]
  },
  {
   "cell_type": "code",
   "execution_count": 84,
   "id": "67cffcee-a06c-4d82-ae20-77b1841c6e81",
   "metadata": {},
   "outputs": [],
   "source": [
    "true_data = pd.read_csv('True.csv')\n",
    "fake_data=pd.read_csv('Fake.csv')"
   ]
  },
  {
   "cell_type": "code",
   "execution_count": 86,
   "id": "3966067d-7560-4efa-bd96-dfc35fe9dbfc",
   "metadata": {},
   "outputs": [],
   "source": [
    "true_data['label'] = 1  # True news\n",
    "fake_data['label'] = 0  # Fake news"
   ]
  },
  {
   "cell_type": "code",
   "execution_count": 88,
   "id": "82f2c8af-6363-4bad-9c62-671dea194cd4",
   "metadata": {},
   "outputs": [
    {
     "name": "stdout",
     "output_type": "stream",
     "text": [
      "                                               title  \\\n",
      "0  As U.S. budget fight looms, Republicans flip t...   \n",
      "1  U.S. military to accept transgender recruits o...   \n",
      "2  Senior U.S. Republican senator: 'Let Mr. Muell...   \n",
      "3  FBI Russia probe helped by Australian diplomat...   \n",
      "4  Trump wants Postal Service to charge 'much mor...   \n",
      "\n",
      "                                                text       subject  \\\n",
      "0  WASHINGTON (Reuters) - The head of a conservat...  politicsNews   \n",
      "1  WASHINGTON (Reuters) - Transgender people will...  politicsNews   \n",
      "2  WASHINGTON (Reuters) - The special counsel inv...  politicsNews   \n",
      "3  WASHINGTON (Reuters) - Trump campaign adviser ...  politicsNews   \n",
      "4  SEATTLE/WASHINGTON (Reuters) - President Donal...  politicsNews   \n",
      "\n",
      "                 date  label  \n",
      "0  December 31, 2017       1  \n",
      "1  December 29, 2017       1  \n",
      "2  December 31, 2017       1  \n",
      "3  December 30, 2017       1  \n",
      "4  December 29, 2017       1  \n",
      "                                               title  \\\n",
      "0   Donald Trump Sends Out Embarrassing New Year’...   \n",
      "1   Drunk Bragging Trump Staffer Started Russian ...   \n",
      "2   Sheriff David Clarke Becomes An Internet Joke...   \n",
      "3   Trump Is So Obsessed He Even Has Obama’s Name...   \n",
      "4   Pope Francis Just Called Out Donald Trump Dur...   \n",
      "\n",
      "                                                text subject  \\\n",
      "0  Donald Trump just couldn t wish all Americans ...    News   \n",
      "1  House Intelligence Committee Chairman Devin Nu...    News   \n",
      "2  On Friday, it was revealed that former Milwauk...    News   \n",
      "3  On Christmas day, Donald Trump announced that ...    News   \n",
      "4  Pope Francis used his annual Christmas Day mes...    News   \n",
      "\n",
      "                date  label  \n",
      "0  December 31, 2017      0  \n",
      "1  December 31, 2017      0  \n",
      "2  December 30, 2017      0  \n",
      "3  December 29, 2017      0  \n",
      "4  December 25, 2017      0  \n"
     ]
    }
   ],
   "source": [
    "print(true_data.head())\n",
    "print(fake_data.head())"
   ]
  },
  {
   "cell_type": "code",
   "execution_count": 90,
   "id": "7aafadec-a8c3-4aaa-a588-ff906015b0f6",
   "metadata": {},
   "outputs": [],
   "source": [
    "data = pd.concat([true_data, fake_data], axis=0).reset_index(drop=True)"
   ]
  },
  {
   "cell_type": "code",
   "execution_count": 92,
   "id": "2e5bb70c-95cc-4a53-9652-d1dc58f560c3",
   "metadata": {},
   "outputs": [
    {
     "name": "stdout",
     "output_type": "stream",
     "text": [
      "                                               title  \\\n",
      "0  As U.S. budget fight looms, Republicans flip t...   \n",
      "1  U.S. military to accept transgender recruits o...   \n",
      "2  Senior U.S. Republican senator: 'Let Mr. Muell...   \n",
      "3  FBI Russia probe helped by Australian diplomat...   \n",
      "4  Trump wants Postal Service to charge 'much mor...   \n",
      "\n",
      "                                                text       subject  \\\n",
      "0  WASHINGTON (Reuters) - The head of a conservat...  politicsNews   \n",
      "1  WASHINGTON (Reuters) - Transgender people will...  politicsNews   \n",
      "2  WASHINGTON (Reuters) - The special counsel inv...  politicsNews   \n",
      "3  WASHINGTON (Reuters) - Trump campaign adviser ...  politicsNews   \n",
      "4  SEATTLE/WASHINGTON (Reuters) - President Donal...  politicsNews   \n",
      "\n",
      "                 date  label  \n",
      "0  December 31, 2017       1  \n",
      "1  December 29, 2017       1  \n",
      "2  December 31, 2017       1  \n",
      "3  December 30, 2017       1  \n",
      "4  December 29, 2017       1  \n"
     ]
    }
   ],
   "source": [
    "data=pd.concat([true_data,fake_data], axis=0).reset_index(drop=True)\n",
    "print(data.head())"
   ]
  },
  {
   "cell_type": "code",
   "execution_count": 94,
   "id": "e2fed943-db61-4d54-afd3-7bd45be0fa8e",
   "metadata": {},
   "outputs": [
    {
     "name": "stdout",
     "output_type": "stream",
     "text": [
      "                                               title  \\\n",
      "0   WATCH: Bernie Sanders Answers ‘Would You Be H...   \n",
      "1  Professor: Political Ignorance is “Going To Ha...   \n",
      "2  CHER TELLS TWITTER Followers To Open Their Hom...   \n",
      "3  Kenya's Odinga says constitutional review, tal...   \n",
      "4  JESSE WATTERS Takes On Young Anti-Trump Protes...   \n",
      "\n",
      "                                                text    subject  \\\n",
      "0  The Democratic candidates for the presidency, ...       News   \n",
      "1  21st Century Wire says Are we already seeing t...    US_News   \n",
      "2  Two days ago, Cher, a leftist agitator, and Tr...   politics   \n",
      "3  NAIROBI (Reuters) - Kenya s opposition leader ...  worldnews   \n",
      "4                                                      politics   \n",
      "\n",
      "                date  label  \n",
      "0     March 11, 2016      0  \n",
      "1     April 12, 2017      0  \n",
      "2        Sep 7, 2017      0  \n",
      "3  November 7, 2017       1  \n",
      "4       Feb 11, 2017      0  \n"
     ]
    }
   ],
   "source": [
    "data = data.sample(frac=1).reset_index(drop=True)\n",
    "print(data.head())"
   ]
  },
  {
   "cell_type": "code",
   "execution_count": 96,
   "id": "7be93568-b398-4f09-b9a5-84eef4dff043",
   "metadata": {},
   "outputs": [],
   "source": [
    "#preprocessing\n",
    "def clean_text(text):\n",
    "    text=re.sub(r'http\\S+', '', text)\n",
    "    text=re.sub(r'<.*?>', '', text)\n",
    "    text = text.translate(str.maketrans('', '', string.punctuation))\n",
    "    # Remove numbers\n",
    "    text = re.sub(r'\\d+', '', text)\n",
    "    # Lowercase\n",
    "    text = text.lower()\n",
    "    return text"
   ]
  },
  {
   "cell_type": "code",
   "execution_count": 98,
   "id": "f89076ca-a1cb-489a-b91f-0c2fc172e946",
   "metadata": {},
   "outputs": [],
   "source": [
    "data['cleaned_text']= data['text'].apply(clean_text)"
   ]
  },
  {
   "cell_type": "code",
   "execution_count": 99,
   "id": "bfba6b7d-5d4d-4618-84f7-be446b2a8e5b",
   "metadata": {},
   "outputs": [],
   "source": [
    "stop_words = set(stopwords.words('english'))\n",
    "lemmatizer = WordNetLemmatizer()"
   ]
  },
  {
   "cell_type": "code",
   "execution_count": 102,
   "id": "143fae50-f879-4269-8b20-a7026b63f4b3",
   "metadata": {},
   "outputs": [],
   "source": [
    "def get_wordnet_pos(tag):\n",
    "    if tag.startswith('J'):\n",
    "        return wordnet.ADJ  # Adjective\n",
    "    elif tag.startswith('V'):\n",
    "        return wordnet.VERB  # Verb\n",
    "    elif tag.startswith('N'):\n",
    "        return wordnet.NOUN  # Noun\n",
    "    elif tag.startswith('R'):\n",
    "        return wordnet.ADV  # Adverb\n",
    "    else:\n",
    "        return wordnet.NOUN  # Default to noun\n",
    "\n",
    "def preprocess_text(text):\n",
    "    # Tokenize the text into words\n",
    "    tokens = word_tokenize(text)\n",
    "    # Get POS tags for tokens\n",
    "    pos_tags = nltk.pos_tag(tokens)\n",
    "    # Lemmatize each token with its POS tag\n",
    "    lemmatized_words = [lemmatizer.lemmatize(word, get_wordnet_pos(tag)) for word, tag in pos_tags]\n",
    "    # Join lemmatized words back into a single string\n",
    "    return ' '.join(lemmatized_words)\n",
    "\n",
    "\n",
    "data['processed_text'] = data['cleaned_text'].apply(preprocess_text)\n",
    "\n"
   ]
  },
  {
   "cell_type": "code",
   "execution_count": null,
   "id": "d91e47e6-309d-4108-88e5-77ff691bfd31",
   "metadata": {},
   "outputs": [],
   "source": []
  },
  {
   "cell_type": "code",
   "execution_count": 103,
   "id": "57231bf8-4009-4f81-9078-ddb4c7dcf22c",
   "metadata": {},
   "outputs": [
    {
     "name": "stdout",
     "output_type": "stream",
     "text": [
      "                                               title  \\\n",
      "0   WATCH: Bernie Sanders Answers ‘Would You Be H...   \n",
      "1  Professor: Political Ignorance is “Going To Ha...   \n",
      "2  CHER TELLS TWITTER Followers To Open Their Hom...   \n",
      "3  Kenya's Odinga says constitutional review, tal...   \n",
      "4  JESSE WATTERS Takes On Young Anti-Trump Protes...   \n",
      "\n",
      "                                                text    subject  \\\n",
      "0  The Democratic candidates for the presidency, ...       News   \n",
      "1  21st Century Wire says Are we already seeing t...    US_News   \n",
      "2  Two days ago, Cher, a leftist agitator, and Tr...   politics   \n",
      "3  NAIROBI (Reuters) - Kenya s opposition leader ...  worldnews   \n",
      "4                                                      politics   \n",
      "\n",
      "                date  label  \\\n",
      "0     March 11, 2016      0   \n",
      "1     April 12, 2017      0   \n",
      "2        Sep 7, 2017      0   \n",
      "3  November 7, 2017       1   \n",
      "4       Feb 11, 2017      0   \n",
      "\n",
      "                                        cleaned_text  \\\n",
      "0  the democratic candidates for the presidency b...   \n",
      "1  st century wire says are we already seeing the...   \n",
      "2  two days ago cher a leftist agitator and trump...   \n",
      "3  nairobi reuters  kenya s opposition leader rai...   \n",
      "4                                                      \n",
      "\n",
      "                                      processed_text  \n",
      "0  the democratic candidate for the presidency be...  \n",
      "1  st century wire say be we already see the resu...  \n",
      "2  two day ago cher a leftist agitator and trumph...  \n",
      "3  nairobi reuters kenya s opposition leader rail...  \n",
      "4                                                     \n"
     ]
    }
   ],
   "source": [
    "print(data.head())"
   ]
  },
  {
   "cell_type": "code",
   "execution_count": 104,
   "id": "92ba773b-7f1b-4d99-a385-647d649e4ec0",
   "metadata": {},
   "outputs": [
    {
     "name": "stdout",
     "output_type": "stream",
     "text": [
      "huge\n"
     ]
    }
   ],
   "source": [
    "print(lemmatizer.lemmatize(\"hugest\",\"a\"));"
   ]
  },
  {
   "cell_type": "code",
   "execution_count": 108,
   "id": "a7320655-364e-4898-bcb5-9735fc6a6c50",
   "metadata": {},
   "outputs": [],
   "source": [
    "# Features and labels\n",
    "X = data['processed_text']\n",
    "y = data['label']\n",
    "\n",
    "# Train-test split\n",
    "X_train, X_test, y_train, y_test = train_test_split(X, y, test_size=0.3, random_state=42, stratify=y)\n",
    "\n"
   ]
  },
  {
   "cell_type": "code",
   "execution_count": 110,
   "id": "8db47e9d-6c91-4a6e-9135-306a7d5a9f97",
   "metadata": {},
   "outputs": [],
   "source": [
    "# Vectorization using TF-IDF\n",
    "tfidf = TfidfVectorizer(max_features=5000, ngram_range=(1, 2))\n",
    "X_train_tfidf = tfidf.fit_transform(X_train)\n",
    "X_test_tfidf = tfidf.transform(X_test)\n"
   ]
  },
  {
   "cell_type": "code",
   "execution_count": 112,
   "id": "14e4d464-0ab1-4e61-8728-91618b0d5fe3",
   "metadata": {},
   "outputs": [
    {
     "name": "stdout",
     "output_type": "stream",
     "text": [
      "Accuracy: 0.9874536005939124\n",
      "Classification Report:\n",
      "               precision    recall  f1-score   support\n",
      "\n",
      "           0       0.99      0.99      0.99      7045\n",
      "           1       0.99      0.99      0.99      6425\n",
      "\n",
      "    accuracy                           0.99     13470\n",
      "   macro avg       0.99      0.99      0.99     13470\n",
      "weighted avg       0.99      0.99      0.99     13470\n",
      "\n",
      "Confusion Matrix:\n",
      " [[6956   89]\n",
      " [  80 6345]]\n"
     ]
    }
   ],
   "source": [
    "# Logistic Regression Model\n",
    "model = LogisticRegression()\n",
    "model.fit(X_train_tfidf, y_train)\n",
    "\n",
    "# Make predictions\n",
    "y_pred = model.predict(X_test_tfidf)\n",
    "\n",
    "# Evaluate the model\n",
    "print(\"Accuracy:\", accuracy_score(y_test, y_pred))\n",
    "print(\"Classification Report:\\n\", classification_report(y_test, y_pred))\n",
    "print(\"Confusion Matrix:\\n\", confusion_matrix(y_test, y_pred))\n"
   ]
  }
 ],
 "metadata": {
  "kernelspec": {
   "display_name": "Python 3 (ipykernel)",
   "language": "python",
   "name": "python3"
  },
  "language_info": {
   "codemirror_mode": {
    "name": "ipython",
    "version": 3
   },
   "file_extension": ".py",
   "mimetype": "text/x-python",
   "name": "python",
   "nbconvert_exporter": "python",
   "pygments_lexer": "ipython3",
   "version": "3.12.4"
  }
 },
 "nbformat": 4,
 "nbformat_minor": 5
}
